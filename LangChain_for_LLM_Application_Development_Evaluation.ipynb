{
  "nbformat": 4,
  "nbformat_minor": 0,
  "metadata": {
    "colab": {
      "provenance": [],
      "collapsed_sections": [
        "jOE0yGqJ6Yk9",
        "nNaq0lOwPH-5",
        "XrJw_GvcQGot",
        "vSsVd5G5WidJ",
        "1Oj1W0d8YCb6",
        "Hpm0NTqXYuZv"
      ]
    },
    "kernelspec": {
      "name": "python3",
      "display_name": "Python 3"
    },
    "language_info": {
      "name": "python"
    }
  },
  "cells": [
    {
      "cell_type": "markdown",
      "source": [
        "# Setting Up Work Environment"
      ],
      "metadata": {
        "id": "jOE0yGqJ6Yk9"
      }
    },
    {
      "cell_type": "code",
      "source": [
        "# Install required libraries\n",
        "!pip install --upgrade google-generativeai                 # Install Google Generative AI (Gemini) SDK\n",
        "!pip install -q -U google-genai                            # Another variant of Google Generative AI SDK\n",
        "!pip install langchain-community                           # Community-supported LangChain tools\n",
        "!pip install docarray                                      # Used for storing and searching documents in memory\n",
        "!pip install -U langchain-google-genai                     # LangChain integration for Google Generative AI (Gemini)"
      ],
      "metadata": {
        "collapsed": true,
        "id": "AafKYYd-wuUM",
        "colab": {
          "base_uri": "https://localhost:8080/",
          "height": 1000
        },
        "outputId": "9a87be9c-3430-4097-f76e-a2026d14c85a"
      },
      "execution_count": 1,
      "outputs": [
        {
          "output_type": "stream",
          "name": "stdout",
          "text": [
            "Requirement already satisfied: google-generativeai in /usr/local/lib/python3.11/dist-packages (0.8.5)\n",
            "Requirement already satisfied: google-ai-generativelanguage==0.6.15 in /usr/local/lib/python3.11/dist-packages (from google-generativeai) (0.6.15)\n",
            "Requirement already satisfied: google-api-core in /usr/local/lib/python3.11/dist-packages (from google-generativeai) (2.25.1)\n",
            "Requirement already satisfied: google-api-python-client in /usr/local/lib/python3.11/dist-packages (from google-generativeai) (2.174.0)\n",
            "Requirement already satisfied: google-auth>=2.15.0 in /usr/local/lib/python3.11/dist-packages (from google-generativeai) (2.38.0)\n",
            "Requirement already satisfied: protobuf in /usr/local/lib/python3.11/dist-packages (from google-generativeai) (5.29.5)\n",
            "Requirement already satisfied: pydantic in /usr/local/lib/python3.11/dist-packages (from google-generativeai) (2.11.7)\n",
            "Requirement already satisfied: tqdm in /usr/local/lib/python3.11/dist-packages (from google-generativeai) (4.67.1)\n",
            "Requirement already satisfied: typing-extensions in /usr/local/lib/python3.11/dist-packages (from google-generativeai) (4.14.0)\n",
            "Requirement already satisfied: proto-plus<2.0.0dev,>=1.22.3 in /usr/local/lib/python3.11/dist-packages (from google-ai-generativelanguage==0.6.15->google-generativeai) (1.26.1)\n",
            "Requirement already satisfied: googleapis-common-protos<2.0.0,>=1.56.2 in /usr/local/lib/python3.11/dist-packages (from google-api-core->google-generativeai) (1.70.0)\n",
            "Requirement already satisfied: requests<3.0.0,>=2.18.0 in /usr/local/lib/python3.11/dist-packages (from google-api-core->google-generativeai) (2.32.3)\n",
            "Requirement already satisfied: cachetools<6.0,>=2.0.0 in /usr/local/lib/python3.11/dist-packages (from google-auth>=2.15.0->google-generativeai) (5.5.2)\n",
            "Requirement already satisfied: pyasn1-modules>=0.2.1 in /usr/local/lib/python3.11/dist-packages (from google-auth>=2.15.0->google-generativeai) (0.4.2)\n",
            "Requirement already satisfied: rsa<5,>=3.1.4 in /usr/local/lib/python3.11/dist-packages (from google-auth>=2.15.0->google-generativeai) (4.9.1)\n",
            "Requirement already satisfied: httplib2<1.0.0,>=0.19.0 in /usr/local/lib/python3.11/dist-packages (from google-api-python-client->google-generativeai) (0.22.0)\n",
            "Requirement already satisfied: google-auth-httplib2<1.0.0,>=0.2.0 in /usr/local/lib/python3.11/dist-packages (from google-api-python-client->google-generativeai) (0.2.0)\n",
            "Requirement already satisfied: uritemplate<5,>=3.0.1 in /usr/local/lib/python3.11/dist-packages (from google-api-python-client->google-generativeai) (4.2.0)\n",
            "Requirement already satisfied: annotated-types>=0.6.0 in /usr/local/lib/python3.11/dist-packages (from pydantic->google-generativeai) (0.7.0)\n",
            "Requirement already satisfied: pydantic-core==2.33.2 in /usr/local/lib/python3.11/dist-packages (from pydantic->google-generativeai) (2.33.2)\n",
            "Requirement already satisfied: typing-inspection>=0.4.0 in /usr/local/lib/python3.11/dist-packages (from pydantic->google-generativeai) (0.4.1)\n",
            "Requirement already satisfied: grpcio<2.0.0,>=1.33.2 in /usr/local/lib/python3.11/dist-packages (from google-api-core[grpc]!=2.0.*,!=2.1.*,!=2.10.*,!=2.2.*,!=2.3.*,!=2.4.*,!=2.5.*,!=2.6.*,!=2.7.*,!=2.8.*,!=2.9.*,<3.0.0dev,>=1.34.1->google-ai-generativelanguage==0.6.15->google-generativeai) (1.73.1)\n",
            "Requirement already satisfied: grpcio-status<2.0.0,>=1.33.2 in /usr/local/lib/python3.11/dist-packages (from google-api-core[grpc]!=2.0.*,!=2.1.*,!=2.10.*,!=2.2.*,!=2.3.*,!=2.4.*,!=2.5.*,!=2.6.*,!=2.7.*,!=2.8.*,!=2.9.*,<3.0.0dev,>=1.34.1->google-ai-generativelanguage==0.6.15->google-generativeai) (1.71.2)\n",
            "Requirement already satisfied: pyparsing!=3.0.0,!=3.0.1,!=3.0.2,!=3.0.3,<4,>=2.4.2 in /usr/local/lib/python3.11/dist-packages (from httplib2<1.0.0,>=0.19.0->google-api-python-client->google-generativeai) (3.2.3)\n",
            "Requirement already satisfied: pyasn1<0.7.0,>=0.6.1 in /usr/local/lib/python3.11/dist-packages (from pyasn1-modules>=0.2.1->google-auth>=2.15.0->google-generativeai) (0.6.1)\n",
            "Requirement already satisfied: charset-normalizer<4,>=2 in /usr/local/lib/python3.11/dist-packages (from requests<3.0.0,>=2.18.0->google-api-core->google-generativeai) (3.4.2)\n",
            "Requirement already satisfied: idna<4,>=2.5 in /usr/local/lib/python3.11/dist-packages (from requests<3.0.0,>=2.18.0->google-api-core->google-generativeai) (3.10)\n",
            "Requirement already satisfied: urllib3<3,>=1.21.1 in /usr/local/lib/python3.11/dist-packages (from requests<3.0.0,>=2.18.0->google-api-core->google-generativeai) (2.4.0)\n",
            "Requirement already satisfied: certifi>=2017.4.17 in /usr/local/lib/python3.11/dist-packages (from requests<3.0.0,>=2.18.0->google-api-core->google-generativeai) (2025.6.15)\n",
            "\u001b[2K     \u001b[90m━━━━━━━━━━━━━━━━━━━━━━━━━━━━━━━━━━━━━━━━\u001b[0m \u001b[32m40.5/40.5 kB\u001b[0m \u001b[31m1.8 MB/s\u001b[0m eta \u001b[36m0:00:00\u001b[0m\n",
            "\u001b[2K   \u001b[90m━━━━━━━━━━━━━━━━━━━━━━━━━━━━━━━━━━━━━━━━\u001b[0m \u001b[32m226.1/226.1 kB\u001b[0m \u001b[31m5.6 MB/s\u001b[0m eta \u001b[36m0:00:00\u001b[0m\n",
            "\u001b[?25hCollecting langchain-community\n",
            "  Downloading langchain_community-0.3.27-py3-none-any.whl.metadata (2.9 kB)\n",
            "Requirement already satisfied: langchain-core<1.0.0,>=0.3.66 in /usr/local/lib/python3.11/dist-packages (from langchain-community) (0.3.67)\n",
            "Requirement already satisfied: langchain<1.0.0,>=0.3.26 in /usr/local/lib/python3.11/dist-packages (from langchain-community) (0.3.26)\n",
            "Requirement already satisfied: SQLAlchemy<3,>=1.4 in /usr/local/lib/python3.11/dist-packages (from langchain-community) (2.0.41)\n",
            "Requirement already satisfied: requests<3,>=2 in /usr/local/lib/python3.11/dist-packages (from langchain-community) (2.32.3)\n",
            "Requirement already satisfied: PyYAML>=5.3 in /usr/local/lib/python3.11/dist-packages (from langchain-community) (6.0.2)\n",
            "Requirement already satisfied: aiohttp<4.0.0,>=3.8.3 in /usr/local/lib/python3.11/dist-packages (from langchain-community) (3.11.15)\n",
            "Requirement already satisfied: tenacity!=8.4.0,<10,>=8.1.0 in /usr/local/lib/python3.11/dist-packages (from langchain-community) (8.5.0)\n",
            "Collecting dataclasses-json<0.7,>=0.5.7 (from langchain-community)\n",
            "  Downloading dataclasses_json-0.6.7-py3-none-any.whl.metadata (25 kB)\n",
            "Collecting pydantic-settings<3.0.0,>=2.4.0 (from langchain-community)\n",
            "  Downloading pydantic_settings-2.10.1-py3-none-any.whl.metadata (3.4 kB)\n",
            "Requirement already satisfied: langsmith>=0.1.125 in /usr/local/lib/python3.11/dist-packages (from langchain-community) (0.4.4)\n",
            "Collecting httpx-sse<1.0.0,>=0.4.0 (from langchain-community)\n",
            "  Downloading httpx_sse-0.4.1-py3-none-any.whl.metadata (9.4 kB)\n",
            "Requirement already satisfied: numpy>=1.26.2 in /usr/local/lib/python3.11/dist-packages (from langchain-community) (2.0.2)\n",
            "Requirement already satisfied: aiohappyeyeballs>=2.3.0 in /usr/local/lib/python3.11/dist-packages (from aiohttp<4.0.0,>=3.8.3->langchain-community) (2.6.1)\n",
            "Requirement already satisfied: aiosignal>=1.1.2 in /usr/local/lib/python3.11/dist-packages (from aiohttp<4.0.0,>=3.8.3->langchain-community) (1.3.2)\n",
            "Requirement already satisfied: attrs>=17.3.0 in /usr/local/lib/python3.11/dist-packages (from aiohttp<4.0.0,>=3.8.3->langchain-community) (25.3.0)\n",
            "Requirement already satisfied: frozenlist>=1.1.1 in /usr/local/lib/python3.11/dist-packages (from aiohttp<4.0.0,>=3.8.3->langchain-community) (1.7.0)\n",
            "Requirement already satisfied: multidict<7.0,>=4.5 in /usr/local/lib/python3.11/dist-packages (from aiohttp<4.0.0,>=3.8.3->langchain-community) (6.6.3)\n",
            "Requirement already satisfied: propcache>=0.2.0 in /usr/local/lib/python3.11/dist-packages (from aiohttp<4.0.0,>=3.8.3->langchain-community) (0.3.2)\n",
            "Requirement already satisfied: yarl<2.0,>=1.17.0 in /usr/local/lib/python3.11/dist-packages (from aiohttp<4.0.0,>=3.8.3->langchain-community) (1.20.1)\n",
            "Collecting marshmallow<4.0.0,>=3.18.0 (from dataclasses-json<0.7,>=0.5.7->langchain-community)\n",
            "  Downloading marshmallow-3.26.1-py3-none-any.whl.metadata (7.3 kB)\n",
            "Collecting typing-inspect<1,>=0.4.0 (from dataclasses-json<0.7,>=0.5.7->langchain-community)\n",
            "  Downloading typing_inspect-0.9.0-py3-none-any.whl.metadata (1.5 kB)\n",
            "Requirement already satisfied: langchain-text-splitters<1.0.0,>=0.3.8 in /usr/local/lib/python3.11/dist-packages (from langchain<1.0.0,>=0.3.26->langchain-community) (0.3.8)\n",
            "Requirement already satisfied: pydantic<3.0.0,>=2.7.4 in /usr/local/lib/python3.11/dist-packages (from langchain<1.0.0,>=0.3.26->langchain-community) (2.11.7)\n",
            "Requirement already satisfied: jsonpatch<2.0,>=1.33 in /usr/local/lib/python3.11/dist-packages (from langchain-core<1.0.0,>=0.3.66->langchain-community) (1.33)\n",
            "Requirement already satisfied: packaging<25,>=23.2 in /usr/local/lib/python3.11/dist-packages (from langchain-core<1.0.0,>=0.3.66->langchain-community) (24.2)\n",
            "Requirement already satisfied: typing-extensions>=4.7 in /usr/local/lib/python3.11/dist-packages (from langchain-core<1.0.0,>=0.3.66->langchain-community) (4.14.0)\n",
            "Requirement already satisfied: httpx<1,>=0.23.0 in /usr/local/lib/python3.11/dist-packages (from langsmith>=0.1.125->langchain-community) (0.28.1)\n",
            "Requirement already satisfied: orjson<4.0.0,>=3.9.14 in /usr/local/lib/python3.11/dist-packages (from langsmith>=0.1.125->langchain-community) (3.10.18)\n",
            "Requirement already satisfied: requests-toolbelt<2.0.0,>=1.0.0 in /usr/local/lib/python3.11/dist-packages (from langsmith>=0.1.125->langchain-community) (1.0.0)\n",
            "Requirement already satisfied: zstandard<0.24.0,>=0.23.0 in /usr/local/lib/python3.11/dist-packages (from langsmith>=0.1.125->langchain-community) (0.23.0)\n",
            "Collecting python-dotenv>=0.21.0 (from pydantic-settings<3.0.0,>=2.4.0->langchain-community)\n",
            "  Downloading python_dotenv-1.1.1-py3-none-any.whl.metadata (24 kB)\n",
            "Requirement already satisfied: typing-inspection>=0.4.0 in /usr/local/lib/python3.11/dist-packages (from pydantic-settings<3.0.0,>=2.4.0->langchain-community) (0.4.1)\n",
            "Requirement already satisfied: charset-normalizer<4,>=2 in /usr/local/lib/python3.11/dist-packages (from requests<3,>=2->langchain-community) (3.4.2)\n",
            "Requirement already satisfied: idna<4,>=2.5 in /usr/local/lib/python3.11/dist-packages (from requests<3,>=2->langchain-community) (3.10)\n",
            "Requirement already satisfied: urllib3<3,>=1.21.1 in /usr/local/lib/python3.11/dist-packages (from requests<3,>=2->langchain-community) (2.4.0)\n",
            "Requirement already satisfied: certifi>=2017.4.17 in /usr/local/lib/python3.11/dist-packages (from requests<3,>=2->langchain-community) (2025.6.15)\n",
            "Requirement already satisfied: greenlet>=1 in /usr/local/lib/python3.11/dist-packages (from SQLAlchemy<3,>=1.4->langchain-community) (3.2.3)\n",
            "Requirement already satisfied: anyio in /usr/local/lib/python3.11/dist-packages (from httpx<1,>=0.23.0->langsmith>=0.1.125->langchain-community) (4.9.0)\n",
            "Requirement already satisfied: httpcore==1.* in /usr/local/lib/python3.11/dist-packages (from httpx<1,>=0.23.0->langsmith>=0.1.125->langchain-community) (1.0.9)\n",
            "Requirement already satisfied: h11>=0.16 in /usr/local/lib/python3.11/dist-packages (from httpcore==1.*->httpx<1,>=0.23.0->langsmith>=0.1.125->langchain-community) (0.16.0)\n",
            "Requirement already satisfied: jsonpointer>=1.9 in /usr/local/lib/python3.11/dist-packages (from jsonpatch<2.0,>=1.33->langchain-core<1.0.0,>=0.3.66->langchain-community) (3.0.0)\n",
            "Requirement already satisfied: annotated-types>=0.6.0 in /usr/local/lib/python3.11/dist-packages (from pydantic<3.0.0,>=2.7.4->langchain<1.0.0,>=0.3.26->langchain-community) (0.7.0)\n",
            "Requirement already satisfied: pydantic-core==2.33.2 in /usr/local/lib/python3.11/dist-packages (from pydantic<3.0.0,>=2.7.4->langchain<1.0.0,>=0.3.26->langchain-community) (2.33.2)\n",
            "Collecting mypy-extensions>=0.3.0 (from typing-inspect<1,>=0.4.0->dataclasses-json<0.7,>=0.5.7->langchain-community)\n",
            "  Downloading mypy_extensions-1.1.0-py3-none-any.whl.metadata (1.1 kB)\n",
            "Requirement already satisfied: sniffio>=1.1 in /usr/local/lib/python3.11/dist-packages (from anyio->httpx<1,>=0.23.0->langsmith>=0.1.125->langchain-community) (1.3.1)\n",
            "Downloading langchain_community-0.3.27-py3-none-any.whl (2.5 MB)\n",
            "\u001b[2K   \u001b[90m━━━━━━━━━━━━━━━━━━━━━━━━━━━━━━━━━━━━━━━━\u001b[0m \u001b[32m2.5/2.5 MB\u001b[0m \u001b[31m24.8 MB/s\u001b[0m eta \u001b[36m0:00:00\u001b[0m\n",
            "\u001b[?25hDownloading dataclasses_json-0.6.7-py3-none-any.whl (28 kB)\n",
            "Downloading httpx_sse-0.4.1-py3-none-any.whl (8.1 kB)\n",
            "Downloading pydantic_settings-2.10.1-py3-none-any.whl (45 kB)\n",
            "\u001b[2K   \u001b[90m━━━━━━━━━━━━━━━━━━━━━━━━━━━━━━━━━━━━━━━━\u001b[0m \u001b[32m45.2/45.2 kB\u001b[0m \u001b[31m4.2 MB/s\u001b[0m eta \u001b[36m0:00:00\u001b[0m\n",
            "\u001b[?25hDownloading marshmallow-3.26.1-py3-none-any.whl (50 kB)\n",
            "\u001b[2K   \u001b[90m━━━━━━━━━━━━━━━━━━━━━━━━━━━━━━━━━━━━━━━━\u001b[0m \u001b[32m50.9/50.9 kB\u001b[0m \u001b[31m4.9 MB/s\u001b[0m eta \u001b[36m0:00:00\u001b[0m\n",
            "\u001b[?25hDownloading python_dotenv-1.1.1-py3-none-any.whl (20 kB)\n",
            "Downloading typing_inspect-0.9.0-py3-none-any.whl (8.8 kB)\n",
            "Downloading mypy_extensions-1.1.0-py3-none-any.whl (5.0 kB)\n",
            "Installing collected packages: python-dotenv, mypy-extensions, marshmallow, httpx-sse, typing-inspect, pydantic-settings, dataclasses-json, langchain-community\n",
            "Successfully installed dataclasses-json-0.6.7 httpx-sse-0.4.1 langchain-community-0.3.27 marshmallow-3.26.1 mypy-extensions-1.1.0 pydantic-settings-2.10.1 python-dotenv-1.1.1 typing-inspect-0.9.0\n",
            "Collecting docarray\n",
            "  Downloading docarray-0.41.0-py3-none-any.whl.metadata (36 kB)\n",
            "Requirement already satisfied: numpy>=1.17.3 in /usr/local/lib/python3.11/dist-packages (from docarray) (2.0.2)\n",
            "Requirement already satisfied: orjson>=3.8.2 in /usr/local/lib/python3.11/dist-packages (from docarray) (3.10.18)\n",
            "Requirement already satisfied: pydantic>=1.10.8 in /usr/local/lib/python3.11/dist-packages (from docarray) (2.11.7)\n",
            "Requirement already satisfied: rich>=13.1.0 in /usr/local/lib/python3.11/dist-packages (from docarray) (13.9.4)\n",
            "Collecting types-requests>=2.28.11.6 (from docarray)\n",
            "  Downloading types_requests-2.32.4.20250611-py3-none-any.whl.metadata (2.1 kB)\n",
            "Requirement already satisfied: typing-inspect>=0.8.0 in /usr/local/lib/python3.11/dist-packages (from docarray) (0.9.0)\n",
            "Requirement already satisfied: annotated-types>=0.6.0 in /usr/local/lib/python3.11/dist-packages (from pydantic>=1.10.8->docarray) (0.7.0)\n",
            "Requirement already satisfied: pydantic-core==2.33.2 in /usr/local/lib/python3.11/dist-packages (from pydantic>=1.10.8->docarray) (2.33.2)\n",
            "Requirement already satisfied: typing-extensions>=4.12.2 in /usr/local/lib/python3.11/dist-packages (from pydantic>=1.10.8->docarray) (4.14.0)\n",
            "Requirement already satisfied: typing-inspection>=0.4.0 in /usr/local/lib/python3.11/dist-packages (from pydantic>=1.10.8->docarray) (0.4.1)\n",
            "Requirement already satisfied: markdown-it-py>=2.2.0 in /usr/local/lib/python3.11/dist-packages (from rich>=13.1.0->docarray) (3.0.0)\n",
            "Requirement already satisfied: pygments<3.0.0,>=2.13.0 in /usr/local/lib/python3.11/dist-packages (from rich>=13.1.0->docarray) (2.19.2)\n",
            "Requirement already satisfied: urllib3>=2 in /usr/local/lib/python3.11/dist-packages (from types-requests>=2.28.11.6->docarray) (2.4.0)\n",
            "Requirement already satisfied: mypy-extensions>=0.3.0 in /usr/local/lib/python3.11/dist-packages (from typing-inspect>=0.8.0->docarray) (1.1.0)\n",
            "Requirement already satisfied: mdurl~=0.1 in /usr/local/lib/python3.11/dist-packages (from markdown-it-py>=2.2.0->rich>=13.1.0->docarray) (0.1.2)\n",
            "Downloading docarray-0.41.0-py3-none-any.whl (302 kB)\n",
            "\u001b[2K   \u001b[90m━━━━━━━━━━━━━━━━━━━━━━━━━━━━━━━━━━━━━━━━\u001b[0m \u001b[32m302.8/302.8 kB\u001b[0m \u001b[31m7.4 MB/s\u001b[0m eta \u001b[36m0:00:00\u001b[0m\n",
            "\u001b[?25hDownloading types_requests-2.32.4.20250611-py3-none-any.whl (20 kB)\n",
            "Installing collected packages: types-requests, docarray\n",
            "Successfully installed docarray-0.41.0 types-requests-2.32.4.20250611\n",
            "Collecting langchain-google-genai\n",
            "  Downloading langchain_google_genai-2.1.6-py3-none-any.whl.metadata (7.0 kB)\n",
            "Collecting filetype<2.0.0,>=1.2.0 (from langchain-google-genai)\n",
            "  Downloading filetype-1.2.0-py2.py3-none-any.whl.metadata (6.5 kB)\n",
            "Collecting google-ai-generativelanguage<0.7.0,>=0.6.18 (from langchain-google-genai)\n",
            "  Downloading google_ai_generativelanguage-0.6.18-py3-none-any.whl.metadata (9.8 kB)\n",
            "Requirement already satisfied: langchain-core<0.4.0,>=0.3.66 in /usr/local/lib/python3.11/dist-packages (from langchain-google-genai) (0.3.67)\n",
            "Requirement already satisfied: pydantic<3,>=2 in /usr/local/lib/python3.11/dist-packages (from langchain-google-genai) (2.11.7)\n",
            "Requirement already satisfied: google-api-core!=2.0.*,!=2.1.*,!=2.10.*,!=2.2.*,!=2.3.*,!=2.4.*,!=2.5.*,!=2.6.*,!=2.7.*,!=2.8.*,!=2.9.*,<3.0.0,>=1.34.1 in /usr/local/lib/python3.11/dist-packages (from google-api-core[grpc]!=2.0.*,!=2.1.*,!=2.10.*,!=2.2.*,!=2.3.*,!=2.4.*,!=2.5.*,!=2.6.*,!=2.7.*,!=2.8.*,!=2.9.*,<3.0.0,>=1.34.1->google-ai-generativelanguage<0.7.0,>=0.6.18->langchain-google-genai) (2.25.1)\n",
            "Requirement already satisfied: google-auth!=2.24.0,!=2.25.0,<3.0.0,>=2.14.1 in /usr/local/lib/python3.11/dist-packages (from google-ai-generativelanguage<0.7.0,>=0.6.18->langchain-google-genai) (2.38.0)\n",
            "Requirement already satisfied: proto-plus<2.0.0,>=1.22.3 in /usr/local/lib/python3.11/dist-packages (from google-ai-generativelanguage<0.7.0,>=0.6.18->langchain-google-genai) (1.26.1)\n",
            "Requirement already satisfied: protobuf!=4.21.0,!=4.21.1,!=4.21.2,!=4.21.3,!=4.21.4,!=4.21.5,<7.0.0,>=3.20.2 in /usr/local/lib/python3.11/dist-packages (from google-ai-generativelanguage<0.7.0,>=0.6.18->langchain-google-genai) (5.29.5)\n",
            "Requirement already satisfied: langsmith>=0.3.45 in /usr/local/lib/python3.11/dist-packages (from langchain-core<0.4.0,>=0.3.66->langchain-google-genai) (0.4.4)\n",
            "Requirement already satisfied: tenacity!=8.4.0,<10.0.0,>=8.1.0 in /usr/local/lib/python3.11/dist-packages (from langchain-core<0.4.0,>=0.3.66->langchain-google-genai) (8.5.0)\n",
            "Requirement already satisfied: jsonpatch<2.0,>=1.33 in /usr/local/lib/python3.11/dist-packages (from langchain-core<0.4.0,>=0.3.66->langchain-google-genai) (1.33)\n",
            "Requirement already satisfied: PyYAML>=5.3 in /usr/local/lib/python3.11/dist-packages (from langchain-core<0.4.0,>=0.3.66->langchain-google-genai) (6.0.2)\n",
            "Requirement already satisfied: packaging<25,>=23.2 in /usr/local/lib/python3.11/dist-packages (from langchain-core<0.4.0,>=0.3.66->langchain-google-genai) (24.2)\n",
            "Requirement already satisfied: typing-extensions>=4.7 in /usr/local/lib/python3.11/dist-packages (from langchain-core<0.4.0,>=0.3.66->langchain-google-genai) (4.14.0)\n",
            "Requirement already satisfied: annotated-types>=0.6.0 in /usr/local/lib/python3.11/dist-packages (from pydantic<3,>=2->langchain-google-genai) (0.7.0)\n",
            "Requirement already satisfied: pydantic-core==2.33.2 in /usr/local/lib/python3.11/dist-packages (from pydantic<3,>=2->langchain-google-genai) (2.33.2)\n",
            "Requirement already satisfied: typing-inspection>=0.4.0 in /usr/local/lib/python3.11/dist-packages (from pydantic<3,>=2->langchain-google-genai) (0.4.1)\n",
            "Requirement already satisfied: googleapis-common-protos<2.0.0,>=1.56.2 in /usr/local/lib/python3.11/dist-packages (from google-api-core!=2.0.*,!=2.1.*,!=2.10.*,!=2.2.*,!=2.3.*,!=2.4.*,!=2.5.*,!=2.6.*,!=2.7.*,!=2.8.*,!=2.9.*,<3.0.0,>=1.34.1->google-api-core[grpc]!=2.0.*,!=2.1.*,!=2.10.*,!=2.2.*,!=2.3.*,!=2.4.*,!=2.5.*,!=2.6.*,!=2.7.*,!=2.8.*,!=2.9.*,<3.0.0,>=1.34.1->google-ai-generativelanguage<0.7.0,>=0.6.18->langchain-google-genai) (1.70.0)\n",
            "Requirement already satisfied: requests<3.0.0,>=2.18.0 in /usr/local/lib/python3.11/dist-packages (from google-api-core!=2.0.*,!=2.1.*,!=2.10.*,!=2.2.*,!=2.3.*,!=2.4.*,!=2.5.*,!=2.6.*,!=2.7.*,!=2.8.*,!=2.9.*,<3.0.0,>=1.34.1->google-api-core[grpc]!=2.0.*,!=2.1.*,!=2.10.*,!=2.2.*,!=2.3.*,!=2.4.*,!=2.5.*,!=2.6.*,!=2.7.*,!=2.8.*,!=2.9.*,<3.0.0,>=1.34.1->google-ai-generativelanguage<0.7.0,>=0.6.18->langchain-google-genai) (2.32.3)\n",
            "Requirement already satisfied: grpcio<2.0.0,>=1.33.2 in /usr/local/lib/python3.11/dist-packages (from google-api-core[grpc]!=2.0.*,!=2.1.*,!=2.10.*,!=2.2.*,!=2.3.*,!=2.4.*,!=2.5.*,!=2.6.*,!=2.7.*,!=2.8.*,!=2.9.*,<3.0.0,>=1.34.1->google-ai-generativelanguage<0.7.0,>=0.6.18->langchain-google-genai) (1.73.1)\n",
            "Requirement already satisfied: grpcio-status<2.0.0,>=1.33.2 in /usr/local/lib/python3.11/dist-packages (from google-api-core[grpc]!=2.0.*,!=2.1.*,!=2.10.*,!=2.2.*,!=2.3.*,!=2.4.*,!=2.5.*,!=2.6.*,!=2.7.*,!=2.8.*,!=2.9.*,<3.0.0,>=1.34.1->google-ai-generativelanguage<0.7.0,>=0.6.18->langchain-google-genai) (1.71.2)\n",
            "Requirement already satisfied: cachetools<6.0,>=2.0.0 in /usr/local/lib/python3.11/dist-packages (from google-auth!=2.24.0,!=2.25.0,<3.0.0,>=2.14.1->google-ai-generativelanguage<0.7.0,>=0.6.18->langchain-google-genai) (5.5.2)\n",
            "Requirement already satisfied: pyasn1-modules>=0.2.1 in /usr/local/lib/python3.11/dist-packages (from google-auth!=2.24.0,!=2.25.0,<3.0.0,>=2.14.1->google-ai-generativelanguage<0.7.0,>=0.6.18->langchain-google-genai) (0.4.2)\n",
            "Requirement already satisfied: rsa<5,>=3.1.4 in /usr/local/lib/python3.11/dist-packages (from google-auth!=2.24.0,!=2.25.0,<3.0.0,>=2.14.1->google-ai-generativelanguage<0.7.0,>=0.6.18->langchain-google-genai) (4.9.1)\n",
            "Requirement already satisfied: jsonpointer>=1.9 in /usr/local/lib/python3.11/dist-packages (from jsonpatch<2.0,>=1.33->langchain-core<0.4.0,>=0.3.66->langchain-google-genai) (3.0.0)\n",
            "Requirement already satisfied: httpx<1,>=0.23.0 in /usr/local/lib/python3.11/dist-packages (from langsmith>=0.3.45->langchain-core<0.4.0,>=0.3.66->langchain-google-genai) (0.28.1)\n",
            "Requirement already satisfied: orjson<4.0.0,>=3.9.14 in /usr/local/lib/python3.11/dist-packages (from langsmith>=0.3.45->langchain-core<0.4.0,>=0.3.66->langchain-google-genai) (3.10.18)\n",
            "Requirement already satisfied: requests-toolbelt<2.0.0,>=1.0.0 in /usr/local/lib/python3.11/dist-packages (from langsmith>=0.3.45->langchain-core<0.4.0,>=0.3.66->langchain-google-genai) (1.0.0)\n",
            "Requirement already satisfied: zstandard<0.24.0,>=0.23.0 in /usr/local/lib/python3.11/dist-packages (from langsmith>=0.3.45->langchain-core<0.4.0,>=0.3.66->langchain-google-genai) (0.23.0)\n",
            "Requirement already satisfied: anyio in /usr/local/lib/python3.11/dist-packages (from httpx<1,>=0.23.0->langsmith>=0.3.45->langchain-core<0.4.0,>=0.3.66->langchain-google-genai) (4.9.0)\n",
            "Requirement already satisfied: certifi in /usr/local/lib/python3.11/dist-packages (from httpx<1,>=0.23.0->langsmith>=0.3.45->langchain-core<0.4.0,>=0.3.66->langchain-google-genai) (2025.6.15)\n",
            "Requirement already satisfied: httpcore==1.* in /usr/local/lib/python3.11/dist-packages (from httpx<1,>=0.23.0->langsmith>=0.3.45->langchain-core<0.4.0,>=0.3.66->langchain-google-genai) (1.0.9)\n",
            "Requirement already satisfied: idna in /usr/local/lib/python3.11/dist-packages (from httpx<1,>=0.23.0->langsmith>=0.3.45->langchain-core<0.4.0,>=0.3.66->langchain-google-genai) (3.10)\n",
            "Requirement already satisfied: h11>=0.16 in /usr/local/lib/python3.11/dist-packages (from httpcore==1.*->httpx<1,>=0.23.0->langsmith>=0.3.45->langchain-core<0.4.0,>=0.3.66->langchain-google-genai) (0.16.0)\n",
            "Requirement already satisfied: pyasn1<0.7.0,>=0.6.1 in /usr/local/lib/python3.11/dist-packages (from pyasn1-modules>=0.2.1->google-auth!=2.24.0,!=2.25.0,<3.0.0,>=2.14.1->google-ai-generativelanguage<0.7.0,>=0.6.18->langchain-google-genai) (0.6.1)\n",
            "Requirement already satisfied: charset-normalizer<4,>=2 in /usr/local/lib/python3.11/dist-packages (from requests<3.0.0,>=2.18.0->google-api-core!=2.0.*,!=2.1.*,!=2.10.*,!=2.2.*,!=2.3.*,!=2.4.*,!=2.5.*,!=2.6.*,!=2.7.*,!=2.8.*,!=2.9.*,<3.0.0,>=1.34.1->google-api-core[grpc]!=2.0.*,!=2.1.*,!=2.10.*,!=2.2.*,!=2.3.*,!=2.4.*,!=2.5.*,!=2.6.*,!=2.7.*,!=2.8.*,!=2.9.*,<3.0.0,>=1.34.1->google-ai-generativelanguage<0.7.0,>=0.6.18->langchain-google-genai) (3.4.2)\n",
            "Requirement already satisfied: urllib3<3,>=1.21.1 in /usr/local/lib/python3.11/dist-packages (from requests<3.0.0,>=2.18.0->google-api-core!=2.0.*,!=2.1.*,!=2.10.*,!=2.2.*,!=2.3.*,!=2.4.*,!=2.5.*,!=2.6.*,!=2.7.*,!=2.8.*,!=2.9.*,<3.0.0,>=1.34.1->google-api-core[grpc]!=2.0.*,!=2.1.*,!=2.10.*,!=2.2.*,!=2.3.*,!=2.4.*,!=2.5.*,!=2.6.*,!=2.7.*,!=2.8.*,!=2.9.*,<3.0.0,>=1.34.1->google-ai-generativelanguage<0.7.0,>=0.6.18->langchain-google-genai) (2.4.0)\n",
            "Requirement already satisfied: sniffio>=1.1 in /usr/local/lib/python3.11/dist-packages (from anyio->httpx<1,>=0.23.0->langsmith>=0.3.45->langchain-core<0.4.0,>=0.3.66->langchain-google-genai) (1.3.1)\n",
            "Downloading langchain_google_genai-2.1.6-py3-none-any.whl (47 kB)\n",
            "\u001b[2K   \u001b[90m━━━━━━━━━━━━━━━━━━━━━━━━━━━━━━━━━━━━━━━━\u001b[0m \u001b[32m47.4/47.4 kB\u001b[0m \u001b[31m1.7 MB/s\u001b[0m eta \u001b[36m0:00:00\u001b[0m\n",
            "\u001b[?25hDownloading filetype-1.2.0-py2.py3-none-any.whl (19 kB)\n",
            "Downloading google_ai_generativelanguage-0.6.18-py3-none-any.whl (1.4 MB)\n",
            "\u001b[2K   \u001b[90m━━━━━━━━━━━━━━━━━━━━━━━━━━━━━━━━━━━━━━━━\u001b[0m \u001b[32m1.4/1.4 MB\u001b[0m \u001b[31m18.0 MB/s\u001b[0m eta \u001b[36m0:00:00\u001b[0m\n",
            "\u001b[?25hInstalling collected packages: filetype, google-ai-generativelanguage, langchain-google-genai\n",
            "  Attempting uninstall: google-ai-generativelanguage\n",
            "    Found existing installation: google-ai-generativelanguage 0.6.15\n",
            "    Uninstalling google-ai-generativelanguage-0.6.15:\n",
            "      Successfully uninstalled google-ai-generativelanguage-0.6.15\n",
            "\u001b[31mERROR: pip's dependency resolver does not currently take into account all the packages that are installed. This behaviour is the source of the following dependency conflicts.\n",
            "google-generativeai 0.8.5 requires google-ai-generativelanguage==0.6.15, but you have google-ai-generativelanguage 0.6.18 which is incompatible.\u001b[0m\u001b[31m\n",
            "\u001b[0mSuccessfully installed filetype-1.2.0 google-ai-generativelanguage-0.6.18 langchain-google-genai-2.1.6\n"
          ]
        },
        {
          "output_type": "display_data",
          "data": {
            "application/vnd.colab-display-data+json": {
              "pip_warning": {
                "packages": [
                  "google"
                ]
              },
              "id": "c60fe6c61cc7461db50a75cfbd29d0ee"
            }
          },
          "metadata": {}
        }
      ]
    },
    {
      "cell_type": "code",
      "source": [
        "import os\n",
        "from google import genai                              # Google GenAI main module\n",
        "import google.generativeai as ggenai                  # Another way to access the GenAI functionality\n",
        "from google.colab import userdata                     # For securely retrieving secrets in Colab\n",
        "\n",
        "# LangChain integrations with Gemini\n",
        "from langchain_google_genai import ChatGoogleGenerativeAI\n",
        "from langchain_google_genai import GoogleGenerativeAIEmbeddings\n",
        "\n",
        "# LangChain utilities\n",
        "from langchain.indexes import VectorstoreIndexCreator  # Helps create vector index from loaders\n",
        "from langchain.vectorstores import DocArrayInMemorySearch\n",
        "from langchain.chains import RetrievalQA                # LangChain's retrieval-based QA chain\n",
        "from langchain.document_loaders import CSVLoader        # Loads documents from CSV\n",
        "from IPython.display import display, Markdown           # For displaying markdown in Colab notebooks\n",
        "from langchain.evaluation.qa import QAGenerateChain\n",
        "import langchain\n",
        "from langchain.evaluation.qa import QAEvalChain"
      ],
      "metadata": {
        "id": "IAK5_T8hJKOT"
      },
      "execution_count": 36,
      "outputs": []
    },
    {
      "cell_type": "code",
      "source": [
        "# Get the Gemini API key stored securely in Colab\n",
        "key = userdata.get('genai_api')\n",
        "\n",
        "# Instantiate a GenAI client with the key\n",
        "client = genai.Client(api_key=key)\n",
        "\n",
        "# Configure the generative AI with the same key for further calls\n",
        "ggenai.configure(api_key=key)"
      ],
      "metadata": {
        "id": "dK9gy8xMvlOV"
      },
      "execution_count": 2,
      "outputs": []
    },
    {
      "cell_type": "markdown",
      "source": [
        "List the set of available models"
      ],
      "metadata": {
        "id": "wR9WQ3B76c3o"
      }
    },
    {
      "cell_type": "code",
      "source": [
        "models = ggenai.list_models()\n",
        "# You can uncomment below to print model names\n",
        "# for model in models:\n",
        "#     print(model.name)"
      ],
      "metadata": {
        "id": "DKPmEKApyY0Q",
        "collapsed": true
      },
      "execution_count": 77,
      "outputs": []
    },
    {
      "cell_type": "code",
      "source": [
        "#  Initialize the Gemini LLM (Chat Model)\n",
        "llm = ChatGoogleGenerativeAI(\n",
        "    model=\"gemini-2.0-flash\",     # Choose your preferred Gemini model (e.g., flash, pro, etc.)\n",
        "    temperature=0.0,              # Set to 0 for deterministic output\n",
        "    google_api_key=key\n",
        ")"
      ],
      "metadata": {
        "id": "BAucEjNAaJpo"
      },
      "execution_count": 58,
      "outputs": []
    },
    {
      "cell_type": "code",
      "source": [
        "# Set Up Embeddings (For Similarity Search)\n",
        "embedding = GoogleGenerativeAIEmbeddings(\n",
        "    model=\"models/embedding-001\",  # You can choose different embedding models\n",
        "    google_api_key=key\n",
        ")"
      ],
      "metadata": {
        "id": "6aF7s0w4PcUC"
      },
      "execution_count": 8,
      "outputs": []
    },
    {
      "cell_type": "markdown",
      "source": [
        "# Create our QandA application"
      ],
      "metadata": {
        "id": "nNaq0lOwPH-5"
      }
    },
    {
      "cell_type": "markdown",
      "source": [
        "- We will begin by creating the index with a single line of code. Following that, we will construct the RetrievalQA chain by specifying the language model, selecting the appropriate chain type, configuring the retriever, and enabling verbosity to display detailed execution output."
      ],
      "metadata": {
        "id": "guxvK2sxP0zj"
      }
    },
    {
      "cell_type": "code",
      "source": [
        "# Load a CSV File and Create a Vector Index\n",
        "file = 'OutdoorClothingCatalog_1000.csv'\n",
        "loader = CSVLoader(file_path=file)\n",
        "data = loader.load()\n",
        "\n",
        "# Use LangChain to create an in-memory vector index using Gemini embeddings\n",
        "index = VectorstoreIndexCreator(\n",
        "    vectorstore_cls=DocArrayInMemorySearch,\n",
        "    embedding=embedding\n",
        ").from_loaders([loader])"
      ],
      "metadata": {
        "id": "-jxlWvpGO_kj"
      },
      "execution_count": 55,
      "outputs": []
    },
    {
      "cell_type": "code",
      "source": [
        "qa = RetrievalQA.from_chain_type(\n",
        "    llm=llm,\n",
        "    chain_type=\"stuff\",\n",
        "    retriever=index.vectorstore.as_retriever(),\n",
        "    verbose=True,\n",
        "    chain_type_kwargs = {\n",
        "        \"document_separator\": \"<<<<>>>>>\"\n",
        "    }\n",
        ")"
      ],
      "metadata": {
        "id": "qS9dwOqhPRxa"
      },
      "execution_count": 59,
      "outputs": []
    },
    {
      "cell_type": "markdown",
      "source": [
        "- Now that the application is configured, the next step is to identify a set of data points on which the system can be evaluated. These data points will serve as the basis for assessing the performance and reliability of the application."
      ],
      "metadata": {
        "id": "G9d6MfDPP87y"
      }
    },
    {
      "cell_type": "markdown",
      "source": [
        "# Manual Testing and Debugging Procedures"
      ],
      "metadata": {
        "id": "XrJw_GvcQGot"
      }
    },
    {
      "cell_type": "markdown",
      "source": [
        "We will begin with the most straightforward debugging approach: selecting representative data points that we believe serve as effective test cases. By examining a subset of the available data, we can manually create example questions along with their corresponding ground truth answers. These curated examples will later be used to evaluate the system’s accuracy and performance."
      ],
      "metadata": {
        "id": "k3C_qOlwQTjj"
      }
    },
    {
      "cell_type": "code",
      "source": [
        "data[10]"
      ],
      "metadata": {
        "colab": {
          "base_uri": "https://localhost:8080/"
        },
        "id": "qTye5ym7P4nl",
        "outputId": "30db0b70-5c24-4165-da55-83f8bc7767dc"
      },
      "execution_count": 13,
      "outputs": [
        {
          "output_type": "execute_result",
          "data": {
            "text/plain": [
              "Document(metadata={'source': 'OutdoorClothingCatalog_1000.csv', 'row': 10}, page_content=\": 10\\nname: Cozy Comfort Pullover Set, Stripe\\ndescription: Perfect for lounging, this striped knit set lives up to its name. We used ultrasoft fabric and an easy design that's as comfortable at bedtime as it is when we have to make a quick run out.\\n\\nSize & Fit\\n- Pants are Favorite Fit: Sits lower on the waist.\\n- Relaxed Fit: Our most generous fit sits farthest from the body.\\n\\nFabric & Care\\n- In the softest blend of 63% polyester, 35% rayon and 2% spandex.\\n\\nAdditional Features\\n- Relaxed fit top with raglan sleeves and rounded hem.\\n- Pull-on pants have a wide elastic waistband and drawstring, side pockets and a modern slim leg.\\n\\nImported.\")"
            ]
          },
          "metadata": {},
          "execution_count": 13
        }
      ]
    },
    {
      "cell_type": "code",
      "source": [
        "data[11]"
      ],
      "metadata": {
        "colab": {
          "base_uri": "https://localhost:8080/"
        },
        "id": "9Zfv1yQIV_xC",
        "outputId": "7a097665-6b11-474d-e40a-848c5180ce33"
      },
      "execution_count": 16,
      "outputs": [
        {
          "output_type": "execute_result",
          "data": {
            "text/plain": [
              "Document(metadata={'source': 'OutdoorClothingCatalog_1000.csv', 'row': 11}, page_content=': 11\\nname: Ultra-Lofty 850 Stretch Down Hooded Jacket\\ndescription: This technical stretch down jacket from our DownTek collection is sure to keep you warm and comfortable with its full-stretch construction providing exceptional range of motion. With a slightly fitted style that falls at the hip and best with a midweight layer, this jacket is suitable for light activity up to 20° and moderate activity up to -30°. The soft and durable 100% polyester shell offers complete windproof protection and is insulated with warm, lofty goose down. Other features include welded baffles for a no-stitch construction and excellent stretch, an adjustable hood, an interior media port and mesh stash pocket and a hem drawcord. Machine wash and dry. Imported.')"
            ]
          },
          "metadata": {},
          "execution_count": 16
        }
      ]
    },
    {
      "cell_type": "code",
      "source": [
        "examples = [\n",
        "    {\n",
        "        \"query\": \"Do the Cozy Comfort Pullover Set\\\n",
        "        have side pockets?\",\n",
        "        \"answer\": \"Yes\"\n",
        "    },\n",
        "    {\n",
        "        \"query\": \"What collection is the Ultra-Lofty \\\n",
        "        850 Stretch Down Hooded Jacket from?\",\n",
        "        \"answer\": \"The DownTek collection\"\n",
        "    }\n",
        "]"
      ],
      "metadata": {
        "id": "xeb_-K7UWKpl"
      },
      "execution_count": 17,
      "outputs": []
    },
    {
      "cell_type": "markdown",
      "source": [
        "# Automated Evaluation Using LLMs"
      ],
      "metadata": {
        "id": "vSsVd5G5WidJ"
      }
    },
    {
      "cell_type": "markdown",
      "source": [
        "- We will use the apply_and_parse method to apply an output parser to the model’s response. This is necessary because we want to retrieve the result as a structured dictionary containing both the query and the answer, rather than receiving a single unstructured string."
      ],
      "metadata": {
        "id": "5SPoSxReXQYc"
      }
    },
    {
      "cell_type": "code",
      "source": [
        "# Create the QA generation chain using Gemini\n",
        "example_gen_chain = QAGenerateChain.from_llm(llm)"
      ],
      "metadata": {
        "id": "J6n6v3ieWVKy"
      },
      "execution_count": 21,
      "outputs": []
    },
    {
      "cell_type": "code",
      "source": [
        "new_examples = example_gen_chain.apply_and_parse([{\"doc\": t} for t in data[:5]])"
      ],
      "metadata": {
        "colab": {
          "base_uri": "https://localhost:8080/"
        },
        "id": "aHVaqSC7W6sQ",
        "outputId": "98efd834-2842-4619-f7e4-5e677d14c1d6"
      },
      "execution_count": 23,
      "outputs": [
        {
          "output_type": "stream",
          "name": "stderr",
          "text": [
            "/usr/local/lib/python3.11/dist-packages/langchain/chains/llm.py:370: UserWarning: The apply_and_parse method is deprecated, instead pass an output parser directly to LLMChain.\n",
            "  warnings.warn(\n"
          ]
        }
      ]
    },
    {
      "cell_type": "markdown",
      "source": [
        "- At this stage, if we examine the returned output, we can observe that it includes both a query and its corresponding answer. Next, we will review the source document to which this question-and-answer pair pertains."
      ],
      "metadata": {
        "id": "q8BDmFxHXdzn"
      }
    },
    {
      "cell_type": "code",
      "source": [
        "new_examples[0]"
      ],
      "metadata": {
        "colab": {
          "base_uri": "https://localhost:8080/"
        },
        "id": "I5mSSMMYXdId",
        "outputId": "c5296fe6-6f3f-4b84-c49b-5f6b364fb3f7"
      },
      "execution_count": 24,
      "outputs": [
        {
          "output_type": "execute_result",
          "data": {
            "text/plain": [
              "{'qa_pairs': {'query': 'According to the product description, what specific features contribute to the \"broken-in feel\" of the Women\\'s Campside Oxfords from the moment they are first worn?',\n",
              "  'answer': 'The \"broken-in feel\" of the Women\\'s Campside Oxfords is attributed to their super-soft canvas material and thick cushioning.'}}"
            ]
          },
          "metadata": {},
          "execution_count": 24
        }
      ]
    },
    {
      "cell_type": "code",
      "source": [
        "data[0]"
      ],
      "metadata": {
        "colab": {
          "base_uri": "https://localhost:8080/"
        },
        "id": "qiiJrfqPXUex",
        "outputId": "b92a4505-0761-4e1d-a2d5-8d1603c8a2a4"
      },
      "execution_count": 25,
      "outputs": [
        {
          "output_type": "execute_result",
          "data": {
            "text/plain": [
              "Document(metadata={'source': 'OutdoorClothingCatalog_1000.csv', 'row': 0}, page_content=\": 0\\nname: Women's Campside Oxfords\\ndescription: This ultracomfortable lace-to-toe Oxford boasts a super-soft canvas, thick cushioning, and quality construction for a broken-in feel from the first time you put them on. \\n\\nSize & Fit: Order regular shoe size. For half sizes not offered, order up to next whole size. \\n\\nSpecs: Approx. weight: 1 lb.1 oz. per pair. \\n\\nConstruction: Soft canvas material for a broken-in feel and look. Comfortable EVA innersole with Cleansport NXT® antimicrobial odor control. Vintage hunt, fish and camping motif on innersole. Moderate arch contour of innersole. EVA foam midsole for cushioning and support. Chain-tread-inspired molded rubber outsole with modified chain-tread pattern. Imported. \\n\\nQuestions? Please contact us for any inquiries.\")"
            ]
          },
          "metadata": {},
          "execution_count": 25
        }
      ]
    },
    {
      "cell_type": "markdown",
      "source": [
        "- We have just generated multiple question–answer pairs automatically, which significantly reduces the need for manual input. This not only saves time but also enables us to expand our set of test cases more efficiently. Now, we will proceed to incorporate these newly generated examples into the existing collection of examples we previously created."
      ],
      "metadata": {
        "id": "aGaSwKojXp9-"
      }
    },
    {
      "cell_type": "code",
      "source": [
        "examples += new_examples"
      ],
      "metadata": {
        "id": "wPkI6tfDXkPl"
      },
      "execution_count": 26,
      "outputs": []
    },
    {
      "cell_type": "code",
      "source": [
        "qa.invoke(examples[0][\"query\"])"
      ],
      "metadata": {
        "colab": {
          "base_uri": "https://localhost:8080/"
        },
        "id": "ZiT1Zm0UXsvL",
        "outputId": "8e9aca7d-c55c-4536-e5c9-cc270d646027"
      },
      "execution_count": 28,
      "outputs": [
        {
          "output_type": "stream",
          "name": "stdout",
          "text": [
            "\n",
            "\n",
            "\u001b[1m> Entering new RetrievalQA chain...\u001b[0m\n",
            "\n",
            "\u001b[1m> Finished chain.\u001b[0m\n"
          ]
        },
        {
          "output_type": "execute_result",
          "data": {
            "text/plain": [
              "{'query': 'Do the Cozy Comfort Pullover Set        have side pockets?',\n",
              " 'result': \"I'm sorry, I don't have any information about the Cozy Comfort Pullover Set.  I only have information about the Cozy Core 3-in-1 Jacket and a Women's Soft Fleece Vest.\"}"
            ]
          },
          "metadata": {},
          "execution_count": 28
        }
      ]
    },
    {
      "cell_type": "markdown",
      "source": [
        "# Reviewing Internal Operations\n",
        "\n",
        "To observe the internal operations of LangChain, we can enable debugging by setting langchain.debug = True. Upon rerunning the previous example, the system will output detailed execution logs, providing greater visibility into each step of the chain's processing."
      ],
      "metadata": {
        "id": "1Oj1W0d8YCb6"
      }
    },
    {
      "cell_type": "code",
      "source": [
        "langchain.debug = True"
      ],
      "metadata": {
        "id": "QazVSPK-Xt1R"
      },
      "execution_count": 30,
      "outputs": []
    },
    {
      "cell_type": "code",
      "source": [
        "qa.invoke(examples[0][\"query\"])"
      ],
      "metadata": {
        "colab": {
          "base_uri": "https://localhost:8080/"
        },
        "id": "NvQx6IGdYIoT",
        "outputId": "0bf76f86-e71b-4534-90b6-ffb717959f06"
      },
      "execution_count": 31,
      "outputs": [
        {
          "output_type": "stream",
          "name": "stdout",
          "text": [
            "\u001b[32;1m\u001b[1;3m[chain/start]\u001b[0m \u001b[1m[chain:RetrievalQA] Entering Chain run with input:\n",
            "\u001b[0m{\n",
            "  \"query\": \"Do the Cozy Comfort Pullover Set        have side pockets?\"\n",
            "}\n",
            "\u001b[32;1m\u001b[1;3m[chain/start]\u001b[0m \u001b[1m[chain:RetrievalQA > chain:StuffDocumentsChain] Entering Chain run with input:\n",
            "\u001b[0m[inputs]\n",
            "\u001b[32;1m\u001b[1;3m[chain/start]\u001b[0m \u001b[1m[chain:RetrievalQA > chain:StuffDocumentsChain > chain:LLMChain] Entering Chain run with input:\n",
            "\u001b[0m{\n",
            "  \"question\": \"Do the Cozy Comfort Pullover Set        have side pockets?\",\n",
            "  \"context\": \"Additional Features: Fully adjustable hood. Two hand pockets, one chest pocket. Interior zippered stow pocket, drop mesh pocket<<<<>>>>>: 975\\nname: Cozy Core 3-in-1 Jacket<<<<>>>>>Berber fleece-lined pockets keep hands warm. One pocket has a hidden security pocket tucked inside. Imported.<<<<>>>>>: 520\\nname: Women's  Soft Fleece Vest\"\n",
            "}\n",
            "\u001b[32;1m\u001b[1;3m[llm/start]\u001b[0m \u001b[1m[chain:RetrievalQA > chain:StuffDocumentsChain > chain:LLMChain > llm:ChatGoogleGenerativeAI] Entering LLM run with input:\n",
            "\u001b[0m{\n",
            "  \"prompts\": [\n",
            "    \"System: Use the following pieces of context to answer the user's question. \\nIf you don't know the answer, just say that you don't know, don't try to make up an answer.\\n----------------\\nAdditional Features: Fully adjustable hood. Two hand pockets, one chest pocket. Interior zippered stow pocket, drop mesh pocket<<<<>>>>>: 975\\nname: Cozy Core 3-in-1 Jacket<<<<>>>>>Berber fleece-lined pockets keep hands warm. One pocket has a hidden security pocket tucked inside. Imported.<<<<>>>>>: 520\\nname: Women's  Soft Fleece Vest\\nHuman: Do the Cozy Comfort Pullover Set        have side pockets?\"\n",
            "  ]\n",
            "}\n",
            "\u001b[36;1m\u001b[1;3m[llm/end]\u001b[0m \u001b[1m[chain:RetrievalQA > chain:StuffDocumentsChain > chain:LLMChain > llm:ChatGoogleGenerativeAI] [616ms] Exiting LLM run with output:\n",
            "\u001b[0m{\n",
            "  \"generations\": [\n",
            "    [\n",
            "      {\n",
            "        \"text\": \"I'm sorry, I don't have any information about the Cozy Comfort Pullover Set.  I only have information about the Cozy Core 3-in-1 Jacket and a Women's Soft Fleece Vest.\",\n",
            "        \"generation_info\": {\n",
            "          \"finish_reason\": \"STOP\",\n",
            "          \"model_name\": \"gemini-1.5-flash\",\n",
            "          \"safety_ratings\": []\n",
            "        },\n",
            "        \"type\": \"ChatGeneration\",\n",
            "        \"message\": {\n",
            "          \"lc\": 1,\n",
            "          \"type\": \"constructor\",\n",
            "          \"id\": [\n",
            "            \"langchain\",\n",
            "            \"schema\",\n",
            "            \"messages\",\n",
            "            \"AIMessage\"\n",
            "          ],\n",
            "          \"kwargs\": {\n",
            "            \"content\": \"I'm sorry, I don't have any information about the Cozy Comfort Pullover Set.  I only have information about the Cozy Core 3-in-1 Jacket and a Women's Soft Fleece Vest.\",\n",
            "            \"response_metadata\": {\n",
            "              \"prompt_feedback\": {\n",
            "                \"block_reason\": 0,\n",
            "                \"safety_ratings\": []\n",
            "              },\n",
            "              \"finish_reason\": \"STOP\",\n",
            "              \"model_name\": \"gemini-1.5-flash\",\n",
            "              \"safety_ratings\": []\n",
            "            },\n",
            "            \"type\": \"ai\",\n",
            "            \"id\": \"run--618f5174-514b-4bc3-a215-63ba9b1e6495-0\",\n",
            "            \"usage_metadata\": {\n",
            "              \"input_tokens\": 144,\n",
            "              \"output_tokens\": 46,\n",
            "              \"total_tokens\": 190,\n",
            "              \"input_token_details\": {\n",
            "                \"cache_read\": 0\n",
            "              }\n",
            "            },\n",
            "            \"tool_calls\": [],\n",
            "            \"invalid_tool_calls\": []\n",
            "          }\n",
            "        }\n",
            "      }\n",
            "    ]\n",
            "  ],\n",
            "  \"llm_output\": {\n",
            "    \"prompt_feedback\": {\n",
            "      \"block_reason\": 0,\n",
            "      \"safety_ratings\": []\n",
            "    }\n",
            "  },\n",
            "  \"run\": null,\n",
            "  \"type\": \"LLMResult\"\n",
            "}\n",
            "\u001b[36;1m\u001b[1;3m[chain/end]\u001b[0m \u001b[1m[chain:RetrievalQA > chain:StuffDocumentsChain > chain:LLMChain] [618ms] Exiting Chain run with output:\n",
            "\u001b[0m{\n",
            "  \"text\": \"I'm sorry, I don't have any information about the Cozy Comfort Pullover Set.  I only have information about the Cozy Core 3-in-1 Jacket and a Women's Soft Fleece Vest.\"\n",
            "}\n",
            "\u001b[36;1m\u001b[1;3m[chain/end]\u001b[0m \u001b[1m[chain:RetrievalQA > chain:StuffDocumentsChain] [624ms] Exiting Chain run with output:\n",
            "\u001b[0m{\n",
            "  \"output_text\": \"I'm sorry, I don't have any information about the Cozy Comfort Pullover Set.  I only have information about the Cozy Core 3-in-1 Jacket and a Women's Soft Fleece Vest.\"\n",
            "}\n",
            "\u001b[36;1m\u001b[1;3m[chain/end]\u001b[0m \u001b[1m[chain:RetrievalQA] [857ms] Exiting Chain run with output:\n",
            "\u001b[0m{\n",
            "  \"result\": \"I'm sorry, I don't have any information about the Cozy Comfort Pullover Set.  I only have information about the Cozy Core 3-in-1 Jacket and a Women's Soft Fleece Vest.\"\n",
            "}\n"
          ]
        },
        {
          "output_type": "execute_result",
          "data": {
            "text/plain": [
              "{'query': 'Do the Cozy Comfort Pullover Set        have side pockets?',\n",
              " 'result': \"I'm sorry, I don't have any information about the Cozy Comfort Pullover Set.  I only have information about the Cozy Core 3-in-1 Jacket and a Women's Soft Fleece Vest.\"}"
            ]
          },
          "metadata": {},
          "execution_count": 31
        }
      ]
    },
    {
      "cell_type": "code",
      "source": [
        "# Turn off the debug mode\n",
        "langchain.debug = False"
      ],
      "metadata": {
        "id": "gmmngcxOYK_Q"
      },
      "execution_count": 32,
      "outputs": []
    },
    {
      "cell_type": "markdown",
      "source": [
        "# LLM assisted evaluation"
      ],
      "metadata": {
        "id": "Hpm0NTqXYuZv"
      }
    },
    {
      "cell_type": "code",
      "source": [
        "# Preprocess examples to ensure 'query' is a top-level key\n",
        "processed_examples = []\n",
        "\n",
        "for example in examples:\n",
        "    if 'qa_pairs' in example:\n",
        "        processed_examples.append({\n",
        "            'query': example['qa_pairs']['query'],\n",
        "            'answer': example['qa_pairs']['answer']\n",
        "        })\n",
        "    else:\n",
        "        processed_examples.append(example)\n",
        "\n",
        "# Now all examples have a consistent structure\n",
        "for example in processed_examples:\n",
        "    print(example)\n",
        "\n",
        "# Assuming qa is an instance of QAEvalChain or a similar class\n",
        "predictions = qa.apply(processed_examples)\n",
        "print(predictions)\n"
      ],
      "metadata": {
        "colab": {
          "base_uri": "https://localhost:8080/"
        },
        "id": "sHJnxdmSYXEn",
        "outputId": "d042c6d6-052e-4ee6-ea73-8d460a321f9f"
      },
      "execution_count": 61,
      "outputs": [
        {
          "output_type": "stream",
          "name": "stdout",
          "text": [
            "{'query': 'Do the Cozy Comfort Pullover Set        have side pockets?', 'answer': 'Yes'}\n",
            "{'query': 'What collection is the Ultra-Lofty         850 Stretch Down Hooded Jacket from?', 'answer': 'The DownTek collection'}\n",
            "{'query': 'According to the product description, what specific features contribute to the \"broken-in feel\" of the Women\\'s Campside Oxfords from the moment they are first worn?', 'answer': 'The \"broken-in feel\" of the Women\\'s Campside Oxfords is attributed to their super-soft canvas material and thick cushioning.'}\n",
            "{'query': 'According to the product description, what are two key benefits of the Recycled Waterhog Dog Mat, and what specific features contribute to each benefit?', 'answer': \"Two key benefits are floor protection and environmental sustainability.  Floor protection is achieved through the mat's ultra-durable construction, thick and thin fibers for scraping dirt and absorbing water, and quick-drying properties that resist mildew and rotting.  Environmental sustainability is achieved through its construction from 94% recycled plastic materials, thus keeping plastic out of landfills, trails, and oceans.\"}\n",
            "{'query': 'According to the product description, what features contribute to the \"secure fit and maximum coverage\" of the Infant and Toddler Girls\\' Coastal Chill Swimsuit?', 'answer': \"The swimsuit's secure fit and maximum coverage are ensured by the crossover no-slip straps and the fully lined bottom.\"}\n",
            "{'query': \" According to the product description, what are the two key benefits of the Refresh Swimwear V-Neck Tankini Contrasts' fabric, beyond its aesthetic appeal?  Provide specific details from the text to support your answer.\", 'answer': ' Two key benefits of the Refresh Swimwear V-Neck Tankini Contrasts\\' fabric, beyond its appearance, are its environmental friendliness and its performance characteristics.  The description explicitly states that the fabric is made from \"recycled nylon,\" highlighting its eco-conscious nature.  Furthermore, it is described as \"breathable, quick drying and abrasion resistant,\" showcasing its performance advantages for watersports.'}\n",
            "{'query': 'According to the product description, what specific technology makes the EcoFlex 3L Storm Pants more breathable than previous models, and what is one benefit of this technology as described in the \"Why We Love It\" section?', 'answer': 'The EcoFlex 3L Storm Pants utilize TEK O2 technology, which provides enhanced breathability compared to previous models.  A benefit of this technology, as stated in the \"Why We Love It\" section, is that it keeps the wearer dry and comfortable regardless of activity or weather.'}\n",
            "\n",
            "\n",
            "\u001b[1m> Entering new RetrievalQA chain...\u001b[0m\n",
            "\n",
            "\u001b[1m> Finished chain.\u001b[0m\n",
            "\n",
            "\n",
            "\u001b[1m> Entering new RetrievalQA chain...\u001b[0m\n",
            "\n",
            "\u001b[1m> Finished chain.\u001b[0m\n",
            "\n",
            "\n",
            "\u001b[1m> Entering new RetrievalQA chain...\u001b[0m\n",
            "\n",
            "\u001b[1m> Finished chain.\u001b[0m\n",
            "\n",
            "\n",
            "\u001b[1m> Entering new RetrievalQA chain...\u001b[0m\n",
            "\n",
            "\u001b[1m> Finished chain.\u001b[0m\n",
            "\n",
            "\n",
            "\u001b[1m> Entering new RetrievalQA chain...\u001b[0m\n",
            "\n",
            "\u001b[1m> Finished chain.\u001b[0m\n",
            "\n",
            "\n",
            "\u001b[1m> Entering new RetrievalQA chain...\u001b[0m\n",
            "\n",
            "\u001b[1m> Finished chain.\u001b[0m\n",
            "\n",
            "\n",
            "\u001b[1m> Entering new RetrievalQA chain...\u001b[0m\n",
            "\n",
            "\u001b[1m> Finished chain.\u001b[0m\n",
            "[{'query': 'Do the Cozy Comfort Pullover Set        have side pockets?', 'answer': 'Yes', 'result': 'I\\'m sorry, but the context provided does not contain information about the \"Cozy Comfort Pullover Set\". Therefore, I cannot answer your question.'}, {'query': 'What collection is the Ultra-Lofty         850 Stretch Down Hooded Jacket from?', 'answer': 'The DownTek collection', 'result': 'It is from the DownTek collection.'}, {'query': 'According to the product description, what specific features contribute to the \"broken-in feel\" of the Women\\'s Campside Oxfords from the moment they are first worn?', 'answer': 'The \"broken-in feel\" of the Women\\'s Campside Oxfords is attributed to their super-soft canvas material and thick cushioning.', 'result': 'According to the product description, the \"broken-in feel\" of the Women\\'s Campside Oxfords from the moment they are first worn is due to the soft canvas material.'}, {'query': 'According to the product description, what are two key benefits of the Recycled Waterhog Dog Mat, and what specific features contribute to each benefit?', 'answer': \"Two key benefits are floor protection and environmental sustainability.  Floor protection is achieved through the mat's ultra-durable construction, thick and thin fibers for scraping dirt and absorbing water, and quick-drying properties that resist mildew and rotting.  Environmental sustainability is achieved through its construction from 94% recycled plastic materials, thus keeping plastic out of landfills, trails, and oceans.\", 'result': \"Here are two key benefits of the Recycled Waterhog Dog Mat, along with the features that contribute to them:\\n\\n*   **Protection from spills and splashing:** This is achieved through the mat's ultradurable construction and its thick and thin fibers, which are designed for scraping dirt and absorbing water.\\n*   **Eco-friendliness:** The mat is made from 94% recycled materials, specifically 24 oz. polyester fabric, helping to keep plastic out of landfills, trails, and oceans.\"}, {'query': 'According to the product description, what features contribute to the \"secure fit and maximum coverage\" of the Infant and Toddler Girls\\' Coastal Chill Swimsuit?', 'answer': \"The swimsuit's secure fit and maximum coverage are ensured by the crossover no-slip straps and the fully lined bottom.\", 'result': 'According to the product description, the crossover no-slip straps and fully lined bottom ensure a secure fit and maximum coverage.'}, {'query': \" According to the product description, what are the two key benefits of the Refresh Swimwear V-Neck Tankini Contrasts' fabric, beyond its aesthetic appeal?  Provide specific details from the text to support your answer.\", 'answer': ' Two key benefits of the Refresh Swimwear V-Neck Tankini Contrasts\\' fabric, beyond its appearance, are its environmental friendliness and its performance characteristics.  The description explicitly states that the fabric is made from \"recycled nylon,\" highlighting its eco-conscious nature.  Furthermore, it is described as \"breathable, quick drying and abrasion resistant,\" showcasing its performance advantages for watersports.', 'result': 'The two key benefits of the Refresh Swimwear V-Neck Tankini Contrasts\\' fabric, beyond its aesthetic appeal, are:\\n\\n1.  **Comfort and Performance:** The \"premium Italian-blend is breathable, quick drying and abrasion resistant.\"\\n2.  **Sun Protection:** It has a \"UPF 50+ rated – the highest rated sun protection possible.\"'}, {'query': 'According to the product description, what specific technology makes the EcoFlex 3L Storm Pants more breathable than previous models, and what is one benefit of this technology as described in the \"Why We Love It\" section?', 'answer': 'The EcoFlex 3L Storm Pants utilize TEK O2 technology, which provides enhanced breathability compared to previous models.  A benefit of this technology, as stated in the \"Why We Love It\" section, is that it keeps the wearer dry and comfortable regardless of activity or weather.', 'result': 'According to the product description, the EcoFlex 3L Storm Pants are more breathable due to the new TEK O2 technology. One benefit of this technology, as described in the \"Why We Love It\" section, is that it offers the most breathability that has ever been tested.'}]\n"
          ]
        }
      ]
    },
    {
      "cell_type": "markdown",
      "source": [
        "- With the prepared examples, we can now proceed to the evaluation phase. We begin by importing the Question Answering (QA) evaluation chain, which will be used to assess the quality of the model's responses. Next, we instantiate this evaluation chain with a selected language model, enabling it to perform automated evaluation. Finally, we invoke the evaluate method on the evaluation chain, supplying both the reference examples and the corresponding predictions. This process yields graded outputs that provide insight into the accuracy and relevance of the model's answers."
      ],
      "metadata": {
        "id": "oaHPkA2WclZ4"
      }
    },
    {
      "cell_type": "code",
      "source": [
        "eval_chain = QAEvalChain.from_llm(llm)\n",
        "graded_outputs = eval_chain.evaluate(processed_examples, predictions)"
      ],
      "metadata": {
        "id": "TBuYp0B3Yt8O"
      },
      "execution_count": 71,
      "outputs": []
    },
    {
      "cell_type": "markdown",
      "source": [
        "To gain visibility into the evaluation process for each example, we will iterate through the dataset and print key details at each step. For every example, we will begin by displaying the question, which was generated by a language model. This will be followed by the reference answer, also produced by a language model with full access to the original source document.\n",
        "\n",
        "Subsequently, we will present the predicted answer, which is generated by a language model operating within the QA chain. This prediction leverages embeddings and a vector database for document retrieval prior to answer generation.\n",
        "\n",
        "Finally, we will print the evaluation grade, which is assigned by a language model that has been prompted to assess the correctness of the predicted answer. By systematically reviewing each question, answer, prediction, and grade, we gain a comprehensive understanding of the evaluation process and the quality of model performance on a per-example basis."
      ],
      "metadata": {
        "id": "D2fB8M9ocvBL"
      }
    },
    {
      "cell_type": "code",
      "metadata": {
        "colab": {
          "base_uri": "https://localhost:8080/"
        },
        "id": "002c4cff",
        "outputId": "664c48de-c8a3-4908-d321-afe8bd5a7dce"
      },
      "source": [
        "for i, eg in enumerate(processed_examples):\n",
        "    print(f\"Example {i}:\")\n",
        "    print(\"Question: \" + predictions[i]['query'])\n",
        "    print(\"Real Answer: \" + predictions[i]['answer'])\n",
        "    print(\"Predicted Answer: \" + predictions[i]['result'])\n",
        "    print(\"Predicted Grade: \" + graded_outputs[i]['results'])\n",
        "    print()"
      ],
      "execution_count": 72,
      "outputs": [
        {
          "output_type": "stream",
          "name": "stdout",
          "text": [
            "Example 0:\n",
            "Question: Do the Cozy Comfort Pullover Set        have side pockets?\n",
            "Real Answer: Yes\n",
            "Predicted Answer: I'm sorry, but the context provided does not contain information about the \"Cozy Comfort Pullover Set\". Therefore, I cannot answer your question.\n",
            "Predicted Grade: INCORRECT\n",
            "\n",
            "Example 1:\n",
            "Question: What collection is the Ultra-Lofty         850 Stretch Down Hooded Jacket from?\n",
            "Real Answer: The DownTek collection\n",
            "Predicted Answer: It is from the DownTek collection.\n",
            "Predicted Grade: CORRECT\n",
            "\n",
            "Example 2:\n",
            "Question: According to the product description, what specific features contribute to the \"broken-in feel\" of the Women's Campside Oxfords from the moment they are first worn?\n",
            "Real Answer: The \"broken-in feel\" of the Women's Campside Oxfords is attributed to their super-soft canvas material and thick cushioning.\n",
            "Predicted Answer: According to the product description, the \"broken-in feel\" of the Women's Campside Oxfords from the moment they are first worn is due to the soft canvas material.\n",
            "Predicted Grade: INCORRECT\n",
            "\n",
            "Example 3:\n",
            "Question: According to the product description, what are two key benefits of the Recycled Waterhog Dog Mat, and what specific features contribute to each benefit?\n",
            "Real Answer: Two key benefits are floor protection and environmental sustainability.  Floor protection is achieved through the mat's ultra-durable construction, thick and thin fibers for scraping dirt and absorbing water, and quick-drying properties that resist mildew and rotting.  Environmental sustainability is achieved through its construction from 94% recycled plastic materials, thus keeping plastic out of landfills, trails, and oceans.\n",
            "Predicted Answer: Here are two key benefits of the Recycled Waterhog Dog Mat, along with the features that contribute to them:\n",
            "\n",
            "*   **Protection from spills and splashing:** This is achieved through the mat's ultradurable construction and its thick and thin fibers, which are designed for scraping dirt and absorbing water.\n",
            "*   **Eco-friendliness:** The mat is made from 94% recycled materials, specifically 24 oz. polyester fabric, helping to keep plastic out of landfills, trails, and oceans.\n",
            "Predicted Grade: CORRECT\n",
            "\n",
            "Example 4:\n",
            "Question: According to the product description, what features contribute to the \"secure fit and maximum coverage\" of the Infant and Toddler Girls' Coastal Chill Swimsuit?\n",
            "Real Answer: The swimsuit's secure fit and maximum coverage are ensured by the crossover no-slip straps and the fully lined bottom.\n",
            "Predicted Answer: According to the product description, the crossover no-slip straps and fully lined bottom ensure a secure fit and maximum coverage.\n",
            "Predicted Grade: CORRECT\n",
            "\n",
            "Example 5:\n",
            "Question:  According to the product description, what are the two key benefits of the Refresh Swimwear V-Neck Tankini Contrasts' fabric, beyond its aesthetic appeal?  Provide specific details from the text to support your answer.\n",
            "Real Answer:  Two key benefits of the Refresh Swimwear V-Neck Tankini Contrasts' fabric, beyond its appearance, are its environmental friendliness and its performance characteristics.  The description explicitly states that the fabric is made from \"recycled nylon,\" highlighting its eco-conscious nature.  Furthermore, it is described as \"breathable, quick drying and abrasion resistant,\" showcasing its performance advantages for watersports.\n",
            "Predicted Answer: The two key benefits of the Refresh Swimwear V-Neck Tankini Contrasts' fabric, beyond its aesthetic appeal, are:\n",
            "\n",
            "1.  **Comfort and Performance:** The \"premium Italian-blend is breathable, quick drying and abrasion resistant.\"\n",
            "2.  **Sun Protection:** It has a \"UPF 50+ rated – the highest rated sun protection possible.\"\n",
            "Predicted Grade: INCORRECT\n",
            "\n",
            "Example 6:\n",
            "Question: According to the product description, what specific technology makes the EcoFlex 3L Storm Pants more breathable than previous models, and what is one benefit of this technology as described in the \"Why We Love It\" section?\n",
            "Real Answer: The EcoFlex 3L Storm Pants utilize TEK O2 technology, which provides enhanced breathability compared to previous models.  A benefit of this technology, as stated in the \"Why We Love It\" section, is that it keeps the wearer dry and comfortable regardless of activity or weather.\n",
            "Predicted Answer: According to the product description, the EcoFlex 3L Storm Pants are more breathable due to the new TEK O2 technology. One benefit of this technology, as described in the \"Why We Love It\" section, is that it offers the most breathability that has ever been tested.\n",
            "Predicted Grade: INCORRECT\n",
            "\n"
          ]
        }
      ]
    },
    {
      "cell_type": "code",
      "source": [
        "graded_outputs[4]"
      ],
      "metadata": {
        "colab": {
          "base_uri": "https://localhost:8080/"
        },
        "id": "1mcG2Oi_c1Lr",
        "outputId": "3c058978-c69a-46b6-c970-c4e7fe29441e"
      },
      "execution_count": 76,
      "outputs": [
        {
          "output_type": "execute_result",
          "data": {
            "text/plain": [
              "{'results': 'CORRECT'}"
            ]
          },
          "metadata": {},
          "execution_count": 76
        }
      ]
    },
    {
      "cell_type": "code",
      "source": [
        "graded_outputs[5]"
      ],
      "metadata": {
        "colab": {
          "base_uri": "https://localhost:8080/"
        },
        "id": "KLXvTD9aZWsr",
        "outputId": "38bf2c7d-9da4-4142-be33-e91beb4460e3"
      },
      "execution_count": 74,
      "outputs": [
        {
          "output_type": "execute_result",
          "data": {
            "text/plain": [
              "{'results': 'INCORRECT'}"
            ]
          },
          "metadata": {},
          "execution_count": 74
        }
      ]
    }
  ]
}